{
 "cells": [
  {
   "cell_type": "code",
   "execution_count": 2,
   "metadata": {},
   "outputs": [
    {
     "name": "stdout",
     "output_type": "stream",
     "text": [
      "Loading binary_origin train dataset...\n"
     ]
    },
    {
     "name": "stderr",
     "output_type": "stream",
     "text": [
      "100%|██████████| 2/2 [00:09<00:00,  4.66s/it]\n"
     ]
    },
    {
     "name": "stdout",
     "output_type": "stream",
     "text": [
      "Loading binary_origin val dataset...\n"
     ]
    },
    {
     "name": "stderr",
     "output_type": "stream",
     "text": [
      "100%|██████████| 2/2 [00:02<00:00,  1.31s/it]\n"
     ]
    },
    {
     "name": "stdout",
     "output_type": "stream",
     "text": [
      "Accuracy: 91.67%\n",
      "Classification Report:\n",
      "              precision    recall  f1-score   support\n",
      "\n",
      "           0       0.80      0.80      0.80         5\n",
      "           1       0.95      0.95      0.95        19\n",
      "\n",
      "    accuracy                           0.92        24\n",
      "   macro avg       0.87      0.87      0.87        24\n",
      "weighted avg       0.92      0.92      0.92        24\n",
      "\n"
     ]
    }
   ],
   "source": [
    "from data_loader import DataLoader\n",
    "from paper_model import Model\n",
    "\n",
    "dataset_name = \"binary_origin\"\n",
    "dataloader = DataLoader( dataset_name=dataset_name, extract_features=True)\n",
    "\n",
    "model = Model('svm')\n",
    "\n",
    "model.train(dataloader.X_train, dataloader.y_train)\n",
    "y_pred = model.predict(dataloader.X_test)\n",
    "model.evaluate(dataloader.y_test, y_pred)"
   ]
  },
  {
   "cell_type": "code",
   "execution_count": 2,
   "metadata": {},
   "outputs": [
    {
     "name": "stdout",
     "output_type": "stream",
     "text": [
      "Loading binary_augmented train dataset...\n"
     ]
    },
    {
     "name": "stderr",
     "output_type": "stream",
     "text": [
      "100%|██████████| 2/2 [01:04<00:00, 32.14s/it]\n"
     ]
    },
    {
     "name": "stdout",
     "output_type": "stream",
     "text": [
      "Loading binary_augmented val dataset...\n"
     ]
    },
    {
     "name": "stderr",
     "output_type": "stream",
     "text": [
      "100%|██████████| 2/2 [00:16<00:00,  8.11s/it]\n"
     ]
    },
    {
     "name": "stdout",
     "output_type": "stream",
     "text": [
      "Accuracy: 93.72%\n",
      "Classification Report:\n",
      "              precision    recall  f1-score   support\n",
      "\n",
      "           0       0.83      0.98      0.90        66\n",
      "           1       0.99      0.92      0.95       157\n",
      "\n",
      "    accuracy                           0.94       223\n",
      "   macro avg       0.91      0.95      0.93       223\n",
      "weighted avg       0.95      0.94      0.94       223\n",
      "\n"
     ]
    }
   ],
   "source": [
    "from data_loader import DataLoader\n",
    "from paper_model import Model\n",
    "\n",
    "dataset_name = \"binary_augmented\"\n",
    "dataloader = DataLoader( dataset_name=dataset_name, extract_features=True)\n",
    "\n",
    "model = Model('svm')\n",
    "\n",
    "model.train(dataloader.X_train, dataloader.y_train)\n",
    "y_pred = model.predict(dataloader.X_test)\n",
    "model.evaluate(dataloader.y_test, y_pred)"
   ]
  },
  {
   "cell_type": "code",
   "execution_count": 3,
   "metadata": {},
   "outputs": [
    {
     "name": "stdout",
     "output_type": "stream",
     "text": [
      "Loading multiclass train dataset...\n"
     ]
    },
    {
     "name": "stderr",
     "output_type": "stream",
     "text": [
      "100%|██████████| 7/7 [01:40<00:00, 14.39s/it]\n"
     ]
    },
    {
     "name": "stdout",
     "output_type": "stream",
     "text": [
      "Loading multiclass val dataset...\n"
     ]
    },
    {
     "name": "stderr",
     "output_type": "stream",
     "text": [
      "100%|██████████| 7/7 [00:23<00:00,  3.31s/it]\n"
     ]
    },
    {
     "name": "stdout",
     "output_type": "stream",
     "text": [
      "Accuracy: 29.43%\n",
      "Classification Report:\n",
      "              precision    recall  f1-score   support\n",
      "\n",
      "           0       0.34      0.22      0.27        50\n",
      "           1       0.21      0.76      0.33        50\n",
      "           2       0.25      0.06      0.10        50\n",
      "           3       0.31      0.24      0.27        50\n",
      "           4       0.53      0.48      0.51        50\n",
      "           5       0.20      0.08      0.11        50\n",
      "           6       0.44      0.22      0.29        50\n",
      "\n",
      "    accuracy                           0.29       350\n",
      "   macro avg       0.33      0.29      0.27       350\n",
      "weighted avg       0.33      0.29      0.27       350\n",
      "\n"
     ]
    }
   ],
   "source": [
    "from data_loader import DataLoader\n",
    "from paper_model import Model\n",
    "\n",
    "dataset_name = \"multiclass\"\n",
    "dataloader = DataLoader( dataset_name=dataset_name, extract_features=True)\n",
    "\n",
    "model = Model('svm')\n",
    "\n",
    "model.train(dataloader.X_train, dataloader.y_train)\n",
    "y_pred = model.predict(dataloader.X_test)\n",
    "model.evaluate(dataloader.y_test, y_pred)"
   ]
  },
  {
   "cell_type": "code",
   "execution_count": 10,
   "metadata": {},
   "outputs": [
    {
     "name": "stdout",
     "output_type": "stream",
     "text": [
      "Loading binary_origin train dataset...\n"
     ]
    },
    {
     "name": "stderr",
     "output_type": "stream",
     "text": [
      "100%|██████████| 2/2 [00:00<00:00,  2.98it/s]\n"
     ]
    },
    {
     "name": "stdout",
     "output_type": "stream",
     "text": [
      "Loading binary_origin val dataset...\n"
     ]
    },
    {
     "name": "stderr",
     "output_type": "stream",
     "text": [
      "100%|██████████| 2/2 [00:00<00:00, 10.30it/s]"
     ]
    },
    {
     "name": "stdout",
     "output_type": "stream",
     "text": [
      "Epoch 1/12\n"
     ]
    },
    {
     "name": "stderr",
     "output_type": "stream",
     "text": [
      "\n",
      "c:\\Users\\ACER\\miniconda3\\Lib\\site-packages\\keras\\src\\layers\\convolutional\\base_conv.py:107: UserWarning: Do not pass an `input_shape`/`input_dim` argument to a layer. When using Sequential models, prefer using an `Input(shape)` object as the first layer in the model instead.\n",
      "  super().__init__(activity_regularizer=activity_regularizer, **kwargs)\n"
     ]
    },
    {
     "name": "stdout",
     "output_type": "stream",
     "text": [
      "\u001b[1m1/1\u001b[0m \u001b[32m━━━━━━━━━━━━━━━━━━━━\u001b[0m\u001b[37m\u001b[0m \u001b[1m0s\u001b[0m 236ms/step - accuracy: 0.6553 - loss: 38.41\n",
      "Epoch 1: Macro F1 Score: 0.4419\n",
      "\u001b[1m3/3\u001b[0m \u001b[32m━━━━━━━━━━━━━━━━━━━━\u001b[0m\u001b[37m\u001b[0m \u001b[1m4s\u001b[0m 833ms/step - accuracy: 0.6705 - loss: 41.2906 - val_accuracy: 1.0000 - val_loss: 0.0000e+00 - macro_f1: 0.4419\n",
      "Epoch 2/12\n",
      "\u001b[1m1/1\u001b[0m \u001b[32m━━━━━━━━━━━━━━━━━━━━\u001b[0m\u001b[37m\u001b[0m \u001b[1m0s\u001b[0m 185ms/step - accuracy: 0.6090 - loss: 10.54\n",
      "Epoch 2: Macro F1 Score: 0.4419\n",
      "\u001b[1m3/3\u001b[0m \u001b[32m━━━━━━━━━━━━━━━━━━━━\u001b[0m\u001b[37m\u001b[0m \u001b[1m2s\u001b[0m 713ms/step - accuracy: 0.6049 - loss: 10.2200 - val_accuracy: 1.0000 - val_loss: 0.0000e+00 - macro_f1: 0.4419\n",
      "Epoch 3/12\n",
      "\u001b[1m1/1\u001b[0m \u001b[32m━━━━━━━━━━━━━━━━━━━━\u001b[0m\u001b[37m\u001b[0m \u001b[1m0s\u001b[0m 183ms/step - accuracy: 0.7541 - loss: 13.30\n",
      "Epoch 3: Macro F1 Score: 0.8737\n",
      "\u001b[1m3/3\u001b[0m \u001b[32m━━━━━━━━━━━━━━━━━━━━\u001b[0m\u001b[37m\u001b[0m \u001b[1m2s\u001b[0m 704ms/step - accuracy: 0.7600 - loss: 12.7326 - val_accuracy: 0.5556 - val_loss: 0.6035 - macro_f1: 0.8737\n",
      "Epoch 4/12\n",
      "\u001b[1m1/1\u001b[0m \u001b[32m━━━━━━━━━━━━━━━━━━━━\u001b[0m\u001b[37m\u001b[0m \u001b[1m0s\u001b[0m 197ms/step - accuracy: 0.6575 - loss: 0.93\n",
      "Epoch 4: Macro F1 Score: 0.4419\n",
      "\u001b[1m3/3\u001b[0m \u001b[32m━━━━━━━━━━━━━━━━━━━━\u001b[0m\u001b[37m\u001b[0m \u001b[1m2s\u001b[0m 681ms/step - accuracy: 0.6660 - loss: 0.9289 - val_accuracy: 1.0000 - val_loss: 0.0000e+00 - macro_f1: 0.4419\n",
      "Epoch 5/12\n",
      "\u001b[1m1/1\u001b[0m \u001b[32m━━━━━━━━━━━━━━━━━━━━\u001b[0m\u001b[37m\u001b[0m \u001b[1m0s\u001b[0m 193ms/step - accuracy: 0.6964 - loss: 4.44\n",
      "Epoch 5: Macro F1 Score: 0.4965\n",
      "\u001b[1m3/3\u001b[0m \u001b[32m━━━━━━━━━━━━━━━━━━━━\u001b[0m\u001b[37m\u001b[0m \u001b[1m2s\u001b[0m 698ms/step - accuracy: 0.6736 - loss: 4.2778 - val_accuracy: 0.0000e+00 - val_loss: 1.1516 - macro_f1: 0.4965\n",
      "Epoch 6/12\n",
      "\u001b[1m1/1\u001b[0m \u001b[32m━━━━━━━━━━━━━━━━━━━━\u001b[0m\u001b[37m\u001b[0m \u001b[1m0s\u001b[0m 192ms/step - accuracy: 0.5141 - loss: 1.18\n",
      "Epoch 6: Macro F1 Score: 0.4419\n",
      "\u001b[1m3/3\u001b[0m \u001b[32m━━━━━━━━━━━━━━━━━━━━\u001b[0m\u001b[37m\u001b[0m \u001b[1m2s\u001b[0m 675ms/step - accuracy: 0.5368 - loss: 1.1205 - val_accuracy: 1.0000 - val_loss: 0.0045 - macro_f1: 0.4419\n",
      "Epoch 7/12\n",
      "\u001b[1m1/1\u001b[0m \u001b[32m━━━━━━━━━━━━━━━━━━━━\u001b[0m\u001b[37m\u001b[0m \u001b[1m0s\u001b[0m 192ms/step - accuracy: 0.7541 - loss: 1.48\n",
      "Epoch 7: Macro F1 Score: 0.4419\n",
      "\u001b[1m3/3\u001b[0m \u001b[32m━━━━━━━━━━━━━━━━━━━━\u001b[0m\u001b[37m\u001b[0m \u001b[1m2s\u001b[0m 700ms/step - accuracy: 0.7600 - loss: 1.4115 - val_accuracy: 1.0000 - val_loss: 0.1852 - macro_f1: 0.4419\n",
      "Epoch 8/12\n",
      "\u001b[1m1/1\u001b[0m \u001b[32m━━━━━━━━━━━━━━━━━━━━\u001b[0m\u001b[37m\u001b[0m \u001b[1m0s\u001b[0m 189ms/step - accuracy: 0.8536 - loss: 0.40\n",
      "Epoch 8: Macro F1 Score: 0.4419\n",
      "\u001b[1m3/3\u001b[0m \u001b[32m━━━━━━━━━━━━━━━━━━━━\u001b[0m\u001b[37m\u001b[0m \u001b[1m2s\u001b[0m 689ms/step - accuracy: 0.8624 - loss: 0.3983 - val_accuracy: 1.0000 - val_loss: 0.1556 - macro_f1: 0.4419\n",
      "Epoch 9/12\n",
      "\u001b[1m1/1\u001b[0m \u001b[32m━━━━━━━━━━━━━━━━━━━━\u001b[0m\u001b[37m\u001b[0m \u001b[1m0s\u001b[0m 189ms/step - accuracy: 0.8070 - loss: 0.39\n",
      "Epoch 9: Macro F1 Score: 0.4419\n",
      "\u001b[1m3/3\u001b[0m \u001b[32m━━━━━━━━━━━━━━━━━━━━\u001b[0m\u001b[37m\u001b[0m \u001b[1m2s\u001b[0m 708ms/step - accuracy: 0.8120 - loss: 0.3851 - val_accuracy: 1.0000 - val_loss: 0.0815 - macro_f1: 0.4419\n",
      "Epoch 10/12\n",
      "\u001b[1m1/1\u001b[0m \u001b[32m━━━━━━━━━━━━━━━━━━━━\u001b[0m\u001b[37m\u001b[0m \u001b[1m0s\u001b[0m 197ms/step - accuracy: 0.7872 - loss: 0.38\n",
      "Epoch 10: Macro F1 Score: 0.8500\n",
      "\u001b[1m3/3\u001b[0m \u001b[32m━━━━━━━━━━━━━━━━━━━━\u001b[0m\u001b[37m\u001b[0m \u001b[1m2s\u001b[0m 683ms/step - accuracy: 0.7941 - loss: 0.3772 - val_accuracy: 1.0000 - val_loss: 0.2207 - macro_f1: 0.8500\n",
      "Epoch 11/12\n",
      "\u001b[1m1/1\u001b[0m \u001b[32m━━━━━━━━━━━━━━━━━━━━\u001b[0m\u001b[37m\u001b[0m \u001b[1m0s\u001b[0m 194ms/step - accuracy: 0.9408 - loss: 0.27\n",
      "Epoch 11: Macro F1 Score: 0.7491\n",
      "\u001b[1m3/3\u001b[0m \u001b[32m━━━━━━━━━━━━━━━━━━━━\u001b[0m\u001b[37m\u001b[0m \u001b[1m2s\u001b[0m 671ms/step - accuracy: 0.9463 - loss: 0.2622 - val_accuracy: 1.0000 - val_loss: 0.0400 - macro_f1: 0.7491\n",
      "Epoch 12/12\n",
      "\u001b[1m1/1\u001b[0m \u001b[32m━━━━━━━━━━━━━━━━━━━━\u001b[0m\u001b[37m\u001b[0m \u001b[1m0s\u001b[0m 185ms/step - accuracy: 0.9243 - loss: 0.20\n",
      "Epoch 12: Macro F1 Score: 0.9316\n",
      "\u001b[1m3/3\u001b[0m \u001b[32m━━━━━━━━━━━━━━━━━━━━\u001b[0m\u001b[37m\u001b[0m \u001b[1m2s\u001b[0m 686ms/step - accuracy: 0.9216 - loss: 0.2065 - val_accuracy: 1.0000 - val_loss: 0.1684 - macro_f1: 0.9316\n",
      "\u001b[1m1/1\u001b[0m \u001b[32m━━━━━━━━━━━━━━━━━━━━\u001b[0m\u001b[37m\u001b[0m \u001b[1m0s\u001b[0m 190ms/step\n",
      "Accuracy: 95.83%\n",
      "Classification Report:\n",
      "              precision    recall  f1-score   support\n",
      "\n",
      "           0       1.00      0.80      0.89         5\n",
      "           1       0.95      1.00      0.97        19\n",
      "\n",
      "    accuracy                           0.96        24\n",
      "   macro avg       0.97      0.90      0.93        24\n",
      "weighted avg       0.96      0.96      0.96        24\n",
      "\n"
     ]
    }
   ],
   "source": [
    "from data_loader import DataLoader\n",
    "from cnn import CustomCNN\n",
    "\n",
    "dataset_name = \"binary_origin\"\n",
    "dataloader = DataLoader( dataset_name=dataset_name, extract_features=False)\n",
    "\n",
    "\n",
    "cnn = CustomCNN(img_height=250, img_width=600, num_classes=2, num_conv_layers=4)\n",
    "X_train, y_train = cnn.preprocess_data(dataloader.X_train, dataloader.y_train)\n",
    "X_test, y_test = cnn.preprocess_data(dataloader.X_test, dataloader.y_test)\n",
    "\n",
    "cnn.fit(X_train, y_train, X_test, y_test, epochs=12, model_save_path='./best_model_origin.keras')\n",
    "y_pred = cnn.predict(X_test)\n",
    "cnn.evaluate(y_test, y_pred)"
   ]
  },
  {
   "cell_type": "code",
   "execution_count": 7,
   "metadata": {},
   "outputs": [
    {
     "name": "stdout",
     "output_type": "stream",
     "text": [
      "Loading binary_augmented train dataset...\n"
     ]
    },
    {
     "name": "stderr",
     "output_type": "stream",
     "text": [
      "100%|██████████| 2/2 [00:05<00:00,  2.63s/it]\n"
     ]
    },
    {
     "name": "stdout",
     "output_type": "stream",
     "text": [
      "Loading binary_augmented val dataset...\n"
     ]
    },
    {
     "name": "stderr",
     "output_type": "stream",
     "text": [
      "100%|██████████| 2/2 [00:01<00:00,  1.65it/s]\n",
      "c:\\Users\\ACER\\miniconda3\\Lib\\site-packages\\keras\\src\\layers\\convolutional\\base_conv.py:107: UserWarning: Do not pass an `input_shape`/`input_dim` argument to a layer. When using Sequential models, prefer using an `Input(shape)` object as the first layer in the model instead.\n",
      "  super().__init__(activity_regularizer=activity_regularizer, **kwargs)\n"
     ]
    },
    {
     "name": "stdout",
     "output_type": "stream",
     "text": [
      "Epoch 1/20\n",
      "\u001b[1m7/7\u001b[0m \u001b[32m━━━━━━━━━━━━━━━━━━━━\u001b[0m\u001b[37m\u001b[0m \u001b[1m2s\u001b[0m 328ms/stepep - accuracy: 0.5564 \n",
      "Epoch 1: Macro F1 Score: 0.5500\n",
      "\u001b[1m25/25\u001b[0m \u001b[32m━━━━━━━━━━━━━━━━━━━━\u001b[0m\u001b[37m\u001b[0m \u001b[1m29s\u001b[0m 1s/step - accuracy: 0.5574 - loss: 2.7168 - val_accuracy: 0.4494 - val_loss: 0.7092 - macro_f1: 0.5500\n",
      "Epoch 2/20\n",
      "\u001b[1m7/7\u001b[0m \u001b[32m━━━━━━━━━━━━━━━━━━━━\u001b[0m\u001b[37m\u001b[0m \u001b[1m2s\u001b[0m 276ms/stepep - accuracy: 0.6033 \n",
      "Epoch 2: Macro F1 Score: 0.7148\n",
      "\u001b[1m25/25\u001b[0m \u001b[32m━━━━━━━━━━━━━━━━━━━━\u001b[0m\u001b[37m\u001b[0m \u001b[1m24s\u001b[0m 977ms/step - accuracy: 0.6045 - loss: 0.6596 - val_accuracy: 0.6629 - val_loss: 0.6371 - macro_f1: 0.7148\n",
      "Epoch 3/20\n",
      "\u001b[1m7/7\u001b[0m \u001b[32m━━━━━━━━━━━━━━━━━━━━\u001b[0m\u001b[37m\u001b[0m \u001b[1m2s\u001b[0m 293ms/stepep - accuracy: 0.6624 \n",
      "Epoch 3: Macro F1 Score: 0.7562\n",
      "\u001b[1m25/25\u001b[0m \u001b[32m━━━━━━━━━━━━━━━━━━━━\u001b[0m\u001b[37m\u001b[0m \u001b[1m24s\u001b[0m 943ms/step - accuracy: 0.6621 - loss: 0.6110 - val_accuracy: 0.8876 - val_loss: 0.5688 - macro_f1: 0.7562\n",
      "Epoch 4/20\n",
      "\u001b[1m7/7\u001b[0m \u001b[32m━━━━━━━━━━━━━━━━━━━━\u001b[0m\u001b[37m\u001b[0m \u001b[1m2s\u001b[0m 273ms/stepep - accuracy: 0.7337 \n",
      "Epoch 4: Macro F1 Score: 0.8041\n",
      "\u001b[1m25/25\u001b[0m \u001b[32m━━━━━━━━━━━━━━━━━━━━\u001b[0m\u001b[37m\u001b[0m \u001b[1m23s\u001b[0m 918ms/step - accuracy: 0.7341 - loss: 0.5349 - val_accuracy: 0.9438 - val_loss: 0.2986 - macro_f1: 0.8041\n",
      "Epoch 5/20\n",
      "\u001b[1m7/7\u001b[0m \u001b[32m━━━━━━━━━━━━━━━━━━━━\u001b[0m\u001b[37m\u001b[0m \u001b[1m2s\u001b[0m 283ms/stepep - accuracy: 0.7700 \n",
      "Epoch 5: Macro F1 Score: 0.8982\n",
      "\u001b[1m25/25\u001b[0m \u001b[32m━━━━━━━━━━━━━━━━━━━━\u001b[0m\u001b[37m\u001b[0m \u001b[1m23s\u001b[0m 932ms/step - accuracy: 0.7703 - loss: 0.4575 - val_accuracy: 0.8539 - val_loss: 0.2637 - macro_f1: 0.8982\n",
      "Epoch 6/20\n",
      "\u001b[1m7/7\u001b[0m \u001b[32m━━━━━━━━━━━━━━━━━━━━\u001b[0m\u001b[37m\u001b[0m \u001b[1m2s\u001b[0m 287ms/stepep - accuracy: 0.8973 \n",
      "Epoch 6: Macro F1 Score: 0.9421\n",
      "\u001b[1m25/25\u001b[0m \u001b[32m━━━━━━━━━━━━━━━━━━━━\u001b[0m\u001b[37m\u001b[0m \u001b[1m24s\u001b[0m 980ms/step - accuracy: 0.8975 - loss: 0.2411 - val_accuracy: 0.9775 - val_loss: 0.0829 - macro_f1: 0.9421\n",
      "Epoch 7/20\n",
      "\u001b[1m7/7\u001b[0m \u001b[32m━━━━━━━━━━━━━━━━━━━━\u001b[0m\u001b[37m\u001b[0m \u001b[1m2s\u001b[0m 289ms/stepep - accuracy: 0.9313 \n",
      "Epoch 7: Macro F1 Score: 0.9533\n",
      "\u001b[1m25/25\u001b[0m \u001b[32m━━━━━━━━━━━━━━━━━━━━\u001b[0m\u001b[37m\u001b[0m \u001b[1m24s\u001b[0m 946ms/step - accuracy: 0.9317 - loss: 0.1640 - val_accuracy: 0.9663 - val_loss: 0.0709 - macro_f1: 0.9533\n",
      "Epoch 8/20\n",
      "\u001b[1m7/7\u001b[0m \u001b[32m━━━━━━━━━━━━━━━━━━━━\u001b[0m\u001b[37m\u001b[0m \u001b[1m2s\u001b[0m 286ms/stepep - accuracy: 0.9541 \n",
      "Epoch 8: Macro F1 Score: 0.4132\n",
      "\u001b[1m25/25\u001b[0m \u001b[32m━━━━━━━━━━━━━━━━━━━━\u001b[0m\u001b[37m\u001b[0m \u001b[1m24s\u001b[0m 954ms/step - accuracy: 0.9529 - loss: 0.1142 - val_accuracy: 1.0000 - val_loss: 0.0024 - macro_f1: 0.4132\n",
      "Epoch 9/20\n",
      "\u001b[1m7/7\u001b[0m \u001b[32m━━━━━━━━━━━━━━━━━━━━\u001b[0m\u001b[37m\u001b[0m \u001b[1m2s\u001b[0m 275ms/stepep - accuracy: 0.7148 \n",
      "Epoch 9: Macro F1 Score: 0.9385\n",
      "\u001b[1m25/25\u001b[0m \u001b[32m━━━━━━━━━━━━━━━━━━━━\u001b[0m\u001b[37m\u001b[0m \u001b[1m23s\u001b[0m 930ms/step - accuracy: 0.7176 - loss: 0.7935 - val_accuracy: 0.9326 - val_loss: 0.1392 - macro_f1: 0.9385\n",
      "Epoch 10/20\n",
      "\u001b[1m7/7\u001b[0m \u001b[32m━━━━━━━━━━━━━━━━━━━━\u001b[0m\u001b[37m\u001b[0m \u001b[1m2s\u001b[0m 278ms/stepep - accuracy: 0.9396 \n",
      "Epoch 10: Macro F1 Score: 0.9385\n",
      "\u001b[1m25/25\u001b[0m \u001b[32m━━━━━━━━━━━━━━━━━━━━\u001b[0m\u001b[37m\u001b[0m \u001b[1m23s\u001b[0m 940ms/step - accuracy: 0.9398 - loss: 0.1540 - val_accuracy: 0.9101 - val_loss: 0.1618 - macro_f1: 0.9385\n",
      "Epoch 11/20\n",
      "\u001b[1m7/7\u001b[0m \u001b[32m━━━━━━━━━━━━━━━━━━━━\u001b[0m\u001b[37m\u001b[0m \u001b[1m2s\u001b[0m 286ms/stepep - accuracy: 0.9589 \n",
      "Epoch 11: Macro F1 Score: 0.9737\n",
      "\u001b[1m25/25\u001b[0m \u001b[32m━━━━━━━━━━━━━━━━━━━━\u001b[0m\u001b[37m\u001b[0m \u001b[1m24s\u001b[0m 956ms/step - accuracy: 0.9592 - loss: 0.1015 - val_accuracy: 0.9888 - val_loss: 0.0242 - macro_f1: 0.9737\n",
      "Epoch 12/20\n",
      "\u001b[1m7/7\u001b[0m \u001b[32m━━━━━━━━━━━━━━━━━━━━\u001b[0m\u001b[37m\u001b[0m \u001b[1m2s\u001b[0m 283ms/stepep - accuracy: 0.9742 \n",
      "Epoch 12: Macro F1 Score: 0.9685\n",
      "\u001b[1m25/25\u001b[0m \u001b[32m━━━━━━━━━━━━━━━━━━━━\u001b[0m\u001b[37m\u001b[0m \u001b[1m23s\u001b[0m 932ms/step - accuracy: 0.9743 - loss: 0.0671 - val_accuracy: 0.9888 - val_loss: 0.0273 - macro_f1: 0.9685\n",
      "Epoch 13/20\n",
      "\u001b[1m7/7\u001b[0m \u001b[32m━━━━━━━━━━━━━━━━━━━━\u001b[0m\u001b[37m\u001b[0m \u001b[1m2s\u001b[0m 276ms/stepep - accuracy: 0.9730 \n",
      "Epoch 13: Macro F1 Score: 0.9788\n",
      "\u001b[1m25/25\u001b[0m \u001b[32m━━━━━━━━━━━━━━━━━━━━\u001b[0m\u001b[37m\u001b[0m \u001b[1m24s\u001b[0m 951ms/step - accuracy: 0.9730 - loss: 0.0891 - val_accuracy: 0.9775 - val_loss: 0.0444 - macro_f1: 0.9788\n",
      "Epoch 14/20\n",
      "\u001b[1m7/7\u001b[0m \u001b[32m━━━━━━━━━━━━━━━━━━━━\u001b[0m\u001b[37m\u001b[0m \u001b[1m2s\u001b[0m 295ms/stepep - accuracy: 0.9753 \n",
      "Epoch 14: Macro F1 Score: 0.9434\n",
      "\u001b[1m25/25\u001b[0m \u001b[32m━━━━━━━━━━━━━━━━━━━━\u001b[0m\u001b[37m\u001b[0m \u001b[1m23s\u001b[0m 934ms/step - accuracy: 0.9750 - loss: 0.0790 - val_accuracy: 0.9326 - val_loss: 0.1459 - macro_f1: 0.9434\n",
      "Epoch 15/20\n",
      "\u001b[1m7/7\u001b[0m \u001b[32m━━━━━━━━━━━━━━━━━━━━\u001b[0m\u001b[37m\u001b[0m \u001b[1m2s\u001b[0m 274ms/stepep - accuracy: 0.9669 \n",
      "Epoch 15: Macro F1 Score: 0.9785\n",
      "\u001b[1m25/25\u001b[0m \u001b[32m━━━━━━━━━━━━━━━━━━━━\u001b[0m\u001b[37m\u001b[0m \u001b[1m23s\u001b[0m 914ms/step - accuracy: 0.9672 - loss: 0.0814 - val_accuracy: 1.0000 - val_loss: 0.0018 - macro_f1: 0.9785\n",
      "Epoch 16/20\n",
      "\u001b[1m7/7\u001b[0m \u001b[32m━━━━━━━━━━━━━━━━━━━━\u001b[0m\u001b[37m\u001b[0m \u001b[1m2s\u001b[0m 277ms/stepep - accuracy: 0.9898 \n",
      "Epoch 16: Macro F1 Score: 0.9893\n",
      "\u001b[1m25/25\u001b[0m \u001b[32m━━━━━━━━━━━━━━━━━━━━\u001b[0m\u001b[37m\u001b[0m \u001b[1m23s\u001b[0m 914ms/step - accuracy: 0.9897 - loss: 0.0425 - val_accuracy: 0.9888 - val_loss: 0.0178 - macro_f1: 0.9893\n",
      "Epoch 17/20\n",
      "\u001b[1m7/7\u001b[0m \u001b[32m━━━━━━━━━━━━━━━━━━━━\u001b[0m\u001b[37m\u001b[0m \u001b[1m2s\u001b[0m 282ms/stepep - accuracy: 0.9784 \n",
      "Epoch 17: Macro F1 Score: 0.9483\n",
      "\u001b[1m25/25\u001b[0m \u001b[32m━━━━━━━━━━━━━━━━━━━━\u001b[0m\u001b[37m\u001b[0m \u001b[1m23s\u001b[0m 931ms/step - accuracy: 0.9784 - loss: 0.0750 - val_accuracy: 0.9326 - val_loss: 0.1690 - macro_f1: 0.9483\n",
      "Epoch 18/20\n",
      "\u001b[1m7/7\u001b[0m \u001b[32m━━━━━━━━━━━━━━━━━━━━\u001b[0m\u001b[37m\u001b[0m \u001b[1m2s\u001b[0m 283ms/stepep - accuracy: 0.9620 \n",
      "Epoch 18: Macro F1 Score: 0.9839\n",
      "\u001b[1m25/25\u001b[0m \u001b[32m━━━━━━━━━━━━━━━━━━━━\u001b[0m\u001b[37m\u001b[0m \u001b[1m23s\u001b[0m 936ms/step - accuracy: 0.9622 - loss: 0.0979 - val_accuracy: 0.9888 - val_loss: 0.0182 - macro_f1: 0.9839\n",
      "Epoch 19/20\n",
      "\u001b[1m7/7\u001b[0m \u001b[32m━━━━━━━━━━━━━━━━━━━━\u001b[0m\u001b[37m\u001b[0m \u001b[1m2s\u001b[0m 271ms/stepep - accuracy: 0.9897 \n",
      "Epoch 19: Macro F1 Score: 0.9788\n",
      "\u001b[1m25/25\u001b[0m \u001b[32m━━━━━━━━━━━━━━━━━━━━\u001b[0m\u001b[37m\u001b[0m \u001b[1m23s\u001b[0m 927ms/step - accuracy: 0.9896 - loss: 0.0300 - val_accuracy: 0.9888 - val_loss: 0.0171 - macro_f1: 0.9788\n",
      "Epoch 20/20\n",
      "\u001b[1m7/7\u001b[0m \u001b[32m━━━━━━━━━━━━━━━━━━━━\u001b[0m\u001b[37m\u001b[0m \u001b[1m2s\u001b[0m 273ms/stepep - accuracy: 0.9934 \n",
      "Epoch 20: Macro F1 Score: 0.9841\n",
      "\u001b[1m25/25\u001b[0m \u001b[32m━━━━━━━━━━━━━━━━━━━━\u001b[0m\u001b[37m\u001b[0m \u001b[1m23s\u001b[0m 913ms/step - accuracy: 0.9933 - loss: 0.0137 - val_accuracy: 1.0000 - val_loss: 0.0098 - macro_f1: 0.9841\n",
      "\u001b[1m7/7\u001b[0m \u001b[32m━━━━━━━━━━━━━━━━━━━━\u001b[0m\u001b[37m\u001b[0m \u001b[1m2s\u001b[0m 270ms/step\n",
      "Accuracy: 98.65%\n",
      "Classification Report:\n",
      "              precision    recall  f1-score   support\n",
      "\n",
      "           0       0.96      1.00      0.98        66\n",
      "           1       1.00      0.98      0.99       157\n",
      "\n",
      "    accuracy                           0.99       223\n",
      "   macro avg       0.98      0.99      0.98       223\n",
      "weighted avg       0.99      0.99      0.99       223\n",
      "\n"
     ]
    }
   ],
   "source": [
    "from data_loader import DataLoader\n",
    "from cnn import CustomCNN\n",
    "\n",
    "dataset_name = \"binary_augmented\"\n",
    "dataloader = DataLoader( dataset_name=dataset_name, extract_features=False)\n",
    "\n",
    "\n",
    "cnn = CustomCNN(img_height=250, img_width=600, num_classes=2, num_conv_layers=5)\n",
    "X_train, y_train = cnn.preprocess_data(dataloader.X_train, dataloader.y_train)\n",
    "X_test, y_test = cnn.preprocess_data(dataloader.X_test, dataloader.y_test)\n",
    "\n",
    "cnn.fit(X_train, y_train, X_test, y_test, epochs=20, model_save_path='./best_model_augmented.keras')\n",
    "y_pred = cnn.predict(X_test)\n",
    "cnn.evaluate(y_test, y_pred)"
   ]
  },
  {
   "cell_type": "code",
   "execution_count": 8,
   "metadata": {},
   "outputs": [
    {
     "name": "stdout",
     "output_type": "stream",
     "text": [
      "Loading multiclass train dataset...\n"
     ]
    },
    {
     "name": "stderr",
     "output_type": "stream",
     "text": [
      "100%|██████████| 7/7 [00:00<00:00,  7.09it/s]\n"
     ]
    },
    {
     "name": "stdout",
     "output_type": "stream",
     "text": [
      "Loading multiclass val dataset...\n"
     ]
    },
    {
     "name": "stderr",
     "output_type": "stream",
     "text": [
      "100%|██████████| 7/7 [00:00<00:00, 25.94it/s]\n",
      "c:\\Users\\ACER\\miniconda3\\Lib\\site-packages\\keras\\src\\layers\\convolutional\\base_conv.py:107: UserWarning: Do not pass an `input_shape`/`input_dim` argument to a layer. When using Sequential models, prefer using an `Input(shape)` object as the first layer in the model instead.\n",
      "  super().__init__(activity_regularizer=activity_regularizer, **kwargs)\n"
     ]
    },
    {
     "name": "stdout",
     "output_type": "stream",
     "text": [
      "Epoch 1/50\n",
      "\u001b[1m11/11\u001b[0m \u001b[32m━━━━━━━━━━━━━━━━━━━━\u001b[0m\u001b[37m\u001b[0m \u001b[1m3s\u001b[0m 261ms/step - accuracy:\n",
      "Epoch 1: Macro F1 Score: 0.1576\n",
      "\u001b[1m40/40\u001b[0m \u001b[32m━━━━━━━━━━━━━━━━━━━━\u001b[0m\u001b[37m\u001b[0m \u001b[1m37s\u001b[0m 858ms/step - accuracy: 0.1581 - loss: 2.9757 - val_accuracy: 0.0000e+00 - val_loss: 2.2696 - macro_f1: 0.1576\n",
      "Epoch 2/50\n",
      "\u001b[1m11/11\u001b[0m \u001b[32m━━━━━━━━━━━━━━━━━━━━\u001b[0m\u001b[37m\u001b[0m \u001b[1m3s\u001b[0m 259ms/step - accuracy:\n",
      "Epoch 2: Macro F1 Score: 0.1947\n",
      "\u001b[1m40/40\u001b[0m \u001b[32m━━━━━━━━━━━━━━━━━━━━\u001b[0m\u001b[37m\u001b[0m \u001b[1m33s\u001b[0m 825ms/step - accuracy: 0.1895 - loss: 1.9004 - val_accuracy: 0.0429 - val_loss: 2.3410 - macro_f1: 0.1947\n",
      "Epoch 3/50\n",
      "\u001b[1m11/11\u001b[0m \u001b[32m━━━━━━━━━━━━━━━━━━━━\u001b[0m\u001b[37m\u001b[0m \u001b[1m3s\u001b[0m 254ms/step - accuracy:\n",
      "Epoch 3: Macro F1 Score: 0.1715\n",
      "\u001b[1m40/40\u001b[0m \u001b[32m━━━━━━━━━━━━━━━━━━━━\u001b[0m\u001b[37m\u001b[0m \u001b[1m33s\u001b[0m 829ms/step - accuracy: 0.1913 - loss: 1.8727 - val_accuracy: 0.0000e+00 - val_loss: 3.0149 - macro_f1: 0.1715\n",
      "Epoch 4/50\n",
      "\u001b[1m11/11\u001b[0m \u001b[32m━━━━━━━━━━━━━━━━━━━━\u001b[0m\u001b[37m\u001b[0m \u001b[1m3s\u001b[0m 254ms/step - accuracy:\n",
      "Epoch 4: Macro F1 Score: 0.2435\n",
      "\u001b[1m40/40\u001b[0m \u001b[32m━━━━━━━━━━━━━━━━━━━━\u001b[0m\u001b[37m\u001b[0m \u001b[1m33s\u001b[0m 833ms/step - accuracy: 0.2260 - loss: 1.8231 - val_accuracy: 0.0143 - val_loss: 2.8345 - macro_f1: 0.2435\n",
      "Epoch 5/50\n",
      "\u001b[1m11/11\u001b[0m \u001b[32m━━━━━━━━━━━━━━━━━━━━\u001b[0m\u001b[37m\u001b[0m \u001b[1m3s\u001b[0m 251ms/step - accuracy:\n",
      "Epoch 5: Macro F1 Score: 0.2656\n",
      "\u001b[1m40/40\u001b[0m \u001b[32m━━━━━━━━━━━━━━━━━━━━\u001b[0m\u001b[37m\u001b[0m \u001b[1m33s\u001b[0m 833ms/step - accuracy: 0.2888 - loss: 1.7306 - val_accuracy: 0.0571 - val_loss: 2.8001 - macro_f1: 0.2656\n",
      "Epoch 6/50\n",
      "\u001b[1m11/11\u001b[0m \u001b[32m━━━━━━━━━━━━━━━━━━━━\u001b[0m\u001b[37m\u001b[0m \u001b[1m3s\u001b[0m 251ms/step - accuracy:\n",
      "Epoch 6: Macro F1 Score: 0.2472\n",
      "\u001b[1m40/40\u001b[0m \u001b[32m━━━━━━━━━━━━━━━━━━━━\u001b[0m\u001b[37m\u001b[0m \u001b[1m32s\u001b[0m 813ms/step - accuracy: 0.3356 - loss: 1.6816 - val_accuracy: 0.0000e+00 - val_loss: 3.4096 - macro_f1: 0.2472\n",
      "Epoch 7/50\n",
      "\u001b[1m11/11\u001b[0m \u001b[32m━━━━━━━━━━━━━━━━━━━━\u001b[0m\u001b[37m\u001b[0m \u001b[1m3s\u001b[0m 252ms/step - accuracy:\n",
      "Epoch 7: Macro F1 Score: 0.2050\n",
      "\u001b[1m40/40\u001b[0m \u001b[32m━━━━━━━━━━━━━━━━━━━━\u001b[0m\u001b[37m\u001b[0m \u001b[1m32s\u001b[0m 804ms/step - accuracy: 0.3410 - loss: 1.6959 - val_accuracy: 0.0071 - val_loss: 2.7367 - macro_f1: 0.2050\n",
      "Epoch 8/50\n",
      "\u001b[1m11/11\u001b[0m \u001b[32m━━━━━━━━━━━━━━━━━━━━\u001b[0m\u001b[37m\u001b[0m \u001b[1m3s\u001b[0m 253ms/step - accuracy:\n",
      "Epoch 8: Macro F1 Score: 0.2779\n",
      "\u001b[1m40/40\u001b[0m \u001b[32m━━━━━━━━━━━━━━━━━━━━\u001b[0m\u001b[37m\u001b[0m \u001b[1m32s\u001b[0m 812ms/step - accuracy: 0.3448 - loss: 1.6269 - val_accuracy: 0.0071 - val_loss: 2.8184 - macro_f1: 0.2779\n",
      "Epoch 9/50\n",
      "\u001b[1m11/11\u001b[0m \u001b[32m━━━━━━━━━━━━━━━━━━━━\u001b[0m\u001b[37m\u001b[0m \u001b[1m3s\u001b[0m 252ms/step - accuracy:\n",
      "Epoch 9: Macro F1 Score: 0.3024\n",
      "\u001b[1m40/40\u001b[0m \u001b[32m━━━━━━━━━━━━━━━━━━━━\u001b[0m\u001b[37m\u001b[0m \u001b[1m33s\u001b[0m 819ms/step - accuracy: 0.3614 - loss: 1.5615 - val_accuracy: 0.1143 - val_loss: 2.7301 - macro_f1: 0.3024\n",
      "Epoch 10/50\n",
      "\u001b[1m11/11\u001b[0m \u001b[32m━━━━━━━━━━━━━━━━━━━━\u001b[0m\u001b[37m\u001b[0m \u001b[1m3s\u001b[0m 237ms/step - accuracy:\n",
      "Epoch 10: Macro F1 Score: 0.3011\n",
      "\u001b[1m40/40\u001b[0m \u001b[32m━━━━━━━━━━━━━━━━━━━━\u001b[0m\u001b[37m\u001b[0m \u001b[1m32s\u001b[0m 799ms/step - accuracy: 0.4080 - loss: 1.5017 - val_accuracy: 0.0714 - val_loss: 3.1313 - macro_f1: 0.3011\n",
      "Epoch 11/50\n",
      "\u001b[1m11/11\u001b[0m \u001b[32m━━━━━━━━━━━━━━━━━━━━\u001b[0m\u001b[37m\u001b[0m \u001b[1m3s\u001b[0m 252ms/step - accuracy:\n",
      "Epoch 11: Macro F1 Score: 0.3481\n",
      "\u001b[1m40/40\u001b[0m \u001b[32m━━━━━━━━━━━━━━━━━━━━\u001b[0m\u001b[37m\u001b[0m \u001b[1m31s\u001b[0m 772ms/step - accuracy: 0.4375 - loss: 1.4676 - val_accuracy: 0.0357 - val_loss: 3.3337 - macro_f1: 0.3481\n",
      "Epoch 12/50\n",
      "\u001b[1m11/11\u001b[0m \u001b[32m━━━━━━━━━━━━━━━━━━━━\u001b[0m\u001b[37m\u001b[0m \u001b[1m3s\u001b[0m 243ms/step - accuracy:\n",
      "Epoch 12: Macro F1 Score: 0.3024\n",
      "\u001b[1m40/40\u001b[0m \u001b[32m━━━━━━━━━━━━━━━━━━━━\u001b[0m\u001b[37m\u001b[0m \u001b[1m31s\u001b[0m 777ms/step - accuracy: 0.4637 - loss: 1.3996 - val_accuracy: 0.0714 - val_loss: 3.2973 - macro_f1: 0.3024\n",
      "Epoch 13/50\n",
      "\u001b[1m11/11\u001b[0m \u001b[32m━━━━━━━━━━━━━━━━━━━━\u001b[0m\u001b[37m\u001b[0m \u001b[1m3s\u001b[0m 239ms/step - accuracy:\n",
      "Epoch 13: Macro F1 Score: 0.3921\n",
      "\u001b[1m40/40\u001b[0m \u001b[32m━━━━━━━━━━━━━━━━━━━━\u001b[0m\u001b[37m\u001b[0m \u001b[1m31s\u001b[0m 781ms/step - accuracy: 0.4606 - loss: 1.3475 - val_accuracy: 0.1786 - val_loss: 2.6718 - macro_f1: 0.3921\n",
      "Epoch 14/50\n",
      "\u001b[1m11/11\u001b[0m \u001b[32m━━━━━━━━━━━━━━━━━━━━\u001b[0m\u001b[37m\u001b[0m \u001b[1m3s\u001b[0m 241ms/step - accuracy:\n",
      "Epoch 14: Macro F1 Score: 0.3644\n",
      "\u001b[1m40/40\u001b[0m \u001b[32m━━━━━━━━━━━━━━━━━━━━\u001b[0m\u001b[37m\u001b[0m \u001b[1m31s\u001b[0m 772ms/step - accuracy: 0.4763 - loss: 1.2937 - val_accuracy: 0.0857 - val_loss: 2.8200 - macro_f1: 0.3644\n",
      "Epoch 15/50\n",
      "\u001b[1m11/11\u001b[0m \u001b[32m━━━━━━━━━━━━━━━━━━━━\u001b[0m\u001b[37m\u001b[0m \u001b[1m3s\u001b[0m 240ms/step - accuracy:\n",
      "Epoch 15: Macro F1 Score: 0.3828\n",
      "\u001b[1m40/40\u001b[0m \u001b[32m━━━━━━━━━━━━━━━━━━━━\u001b[0m\u001b[37m\u001b[0m \u001b[1m31s\u001b[0m 775ms/step - accuracy: 0.4671 - loss: 1.3429 - val_accuracy: 0.0857 - val_loss: 3.5314 - macro_f1: 0.3828\n",
      "Epoch 16/50\n",
      "\u001b[1m11/11\u001b[0m \u001b[32m━━━━━━━━━━━━━━━━━━━━\u001b[0m\u001b[37m\u001b[0m \u001b[1m3s\u001b[0m 245ms/step - accuracy:\n",
      "Epoch 16: Macro F1 Score: 0.3710\n",
      "\u001b[1m40/40\u001b[0m \u001b[32m━━━━━━━━━━━━━━━━━━━━\u001b[0m\u001b[37m\u001b[0m \u001b[1m31s\u001b[0m 779ms/step - accuracy: 0.4632 - loss: 1.3957 - val_accuracy: 0.0429 - val_loss: 3.4668 - macro_f1: 0.3710\n",
      "Epoch 17/50\n",
      "\u001b[1m11/11\u001b[0m \u001b[32m━━━━━━━━━━━━━━━━━━━━\u001b[0m\u001b[37m\u001b[0m \u001b[1m3s\u001b[0m 249ms/step - accuracy:\n",
      "Epoch 17: Macro F1 Score: 0.3628\n",
      "\u001b[1m40/40\u001b[0m \u001b[32m━━━━━━━━━━━━━━━━━━━━\u001b[0m\u001b[37m\u001b[0m \u001b[1m31s\u001b[0m 775ms/step - accuracy: 0.5248 - loss: 1.2636 - val_accuracy: 0.0286 - val_loss: 3.3685 - macro_f1: 0.3628\n",
      "Epoch 18/50\n",
      "\u001b[1m11/11\u001b[0m \u001b[32m━━━━━━━━━━━━━━━━━━━━\u001b[0m\u001b[37m\u001b[0m \u001b[1m3s\u001b[0m 247ms/step - accuracy:\n",
      "Epoch 18: Macro F1 Score: 0.3845\n",
      "\u001b[1m40/40\u001b[0m \u001b[32m━━━━━━━━━━━━━━━━━━━━\u001b[0m\u001b[37m\u001b[0m \u001b[1m32s\u001b[0m 796ms/step - accuracy: 0.5337 - loss: 1.1973 - val_accuracy: 0.0857 - val_loss: 3.5190 - macro_f1: 0.3845\n",
      "Epoch 19/50\n",
      "\u001b[1m11/11\u001b[0m \u001b[32m━━━━━━━━━━━━━━━━━━━━\u001b[0m\u001b[37m\u001b[0m \u001b[1m3s\u001b[0m 247ms/step - accuracy:\n",
      "Epoch 19: Macro F1 Score: 0.3970\n",
      "\u001b[1m40/40\u001b[0m \u001b[32m━━━━━━━━━━━━━━━━━━━━\u001b[0m\u001b[37m\u001b[0m \u001b[1m32s\u001b[0m 789ms/step - accuracy: 0.5288 - loss: 1.1695 - val_accuracy: 0.0786 - val_loss: 3.5563 - macro_f1: 0.3970\n",
      "Epoch 20/50\n",
      "\u001b[1m11/11\u001b[0m \u001b[32m━━━━━━━━━━━━━━━━━━━━\u001b[0m\u001b[37m\u001b[0m \u001b[1m3s\u001b[0m 248ms/step - accuracy:\n",
      "Epoch 20: Macro F1 Score: 0.4149\n",
      "\u001b[1m40/40\u001b[0m \u001b[32m━━━━━━━━━━━━━━━━━━━━\u001b[0m\u001b[37m\u001b[0m \u001b[1m31s\u001b[0m 782ms/step - accuracy: 0.5734 - loss: 1.1234 - val_accuracy: 0.1000 - val_loss: 3.2288 - macro_f1: 0.4149\n",
      "Epoch 21/50\n",
      "\u001b[1m11/11\u001b[0m \u001b[32m━━━━━━━━━━━━━━━━━━━━\u001b[0m\u001b[37m\u001b[0m \u001b[1m3s\u001b[0m 264ms/step - accuracy:\n",
      "Epoch 21: Macro F1 Score: 0.4332\n",
      "\u001b[1m40/40\u001b[0m \u001b[32m━━━━━━━━━━━━━━━━━━━━\u001b[0m\u001b[37m\u001b[0m \u001b[1m32s\u001b[0m 807ms/step - accuracy: 0.5581 - loss: 1.1116 - val_accuracy: 0.1286 - val_loss: 3.4531 - macro_f1: 0.4332\n",
      "Epoch 22/50\n",
      "\u001b[1m11/11\u001b[0m \u001b[32m━━━━━━━━━━━━━━━━━━━━\u001b[0m\u001b[37m\u001b[0m \u001b[1m3s\u001b[0m 258ms/step - accuracy:\n",
      "Epoch 22: Macro F1 Score: 0.4238\n",
      "\u001b[1m40/40\u001b[0m \u001b[32m━━━━━━━━━━━━━━━━━━━━\u001b[0m\u001b[37m\u001b[0m \u001b[1m33s\u001b[0m 821ms/step - accuracy: 0.5965 - loss: 1.0619 - val_accuracy: 0.1786 - val_loss: 2.8134 - macro_f1: 0.4238\n",
      "Epoch 23/50\n",
      "\u001b[1m11/11\u001b[0m \u001b[32m━━━━━━━━━━━━━━━━━━━━\u001b[0m\u001b[37m\u001b[0m \u001b[1m3s\u001b[0m 256ms/step - accuracy:\n",
      "Epoch 23: Macro F1 Score: 0.4196\n",
      "\u001b[1m40/40\u001b[0m \u001b[32m━━━━━━━━━━━━━━━━━━━━\u001b[0m\u001b[37m\u001b[0m \u001b[1m32s\u001b[0m 806ms/step - accuracy: 0.5952 - loss: 1.0624 - val_accuracy: 0.1214 - val_loss: 3.3492 - macro_f1: 0.4196\n",
      "Epoch 24/50\n",
      "\u001b[1m11/11\u001b[0m \u001b[32m━━━━━━━━━━━━━━━━━━━━\u001b[0m\u001b[37m\u001b[0m \u001b[1m3s\u001b[0m 260ms/step - accuracy:\n",
      "Epoch 24: Macro F1 Score: 0.4104\n",
      "\u001b[1m40/40\u001b[0m \u001b[32m━━━━━━━━━━━━━━━━━━━━\u001b[0m\u001b[37m\u001b[0m \u001b[1m32s\u001b[0m 801ms/step - accuracy: 0.5857 - loss: 1.0741 - val_accuracy: 0.0643 - val_loss: 3.7822 - macro_f1: 0.4104\n",
      "Epoch 25/50\n",
      "\u001b[1m11/11\u001b[0m \u001b[32m━━━━━━━━━━━━━━━━━━━━\u001b[0m\u001b[37m\u001b[0m \u001b[1m3s\u001b[0m 246ms/step - accuracy:\n",
      "Epoch 25: Macro F1 Score: 0.4247\n",
      "\u001b[1m40/40\u001b[0m \u001b[32m━━━━━━━━━━━━━━━━━━━━\u001b[0m\u001b[37m\u001b[0m \u001b[1m32s\u001b[0m 805ms/step - accuracy: 0.6417 - loss: 0.9149 - val_accuracy: 0.1429 - val_loss: 3.7876 - macro_f1: 0.4247\n",
      "Epoch 26/50\n",
      "\u001b[1m11/11\u001b[0m \u001b[32m━━━━━━━━━━━━━━━━━━━━\u001b[0m\u001b[37m\u001b[0m \u001b[1m3s\u001b[0m 250ms/step - accuracy:\n",
      "Epoch 26: Macro F1 Score: 0.4487\n",
      "\u001b[1m40/40\u001b[0m \u001b[32m━━━━━━━━━━━━━━━━━━━━\u001b[0m\u001b[37m\u001b[0m \u001b[1m32s\u001b[0m 797ms/step - accuracy: 0.6510 - loss: 0.9319 - val_accuracy: 0.1429 - val_loss: 3.8594 - macro_f1: 0.4487\n",
      "Epoch 27/50\n",
      "\u001b[1m11/11\u001b[0m \u001b[32m━━━━━━━━━━━━━━━━━━━━\u001b[0m\u001b[37m\u001b[0m \u001b[1m3s\u001b[0m 251ms/step - accuracy:\n",
      "Epoch 27: Macro F1 Score: 0.4095\n",
      "\u001b[1m40/40\u001b[0m \u001b[32m━━━━━━━━━━━━━━━━━━━━\u001b[0m\u001b[37m\u001b[0m \u001b[1m32s\u001b[0m 799ms/step - accuracy: 0.6474 - loss: 0.8921 - val_accuracy: 0.1214 - val_loss: 3.5338 - macro_f1: 0.4095\n",
      "Epoch 28/50\n",
      "\u001b[1m11/11\u001b[0m \u001b[32m━━━━━━━━━━━━━━━━━━━━\u001b[0m\u001b[37m\u001b[0m \u001b[1m3s\u001b[0m 240ms/step - accuracy:\n",
      "Epoch 28: Macro F1 Score: 0.4633\n",
      "\u001b[1m40/40\u001b[0m \u001b[32m━━━━━━━━━━━━━━━━━━━━\u001b[0m\u001b[37m\u001b[0m \u001b[1m31s\u001b[0m 769ms/step - accuracy: 0.6644 - loss: 0.8960 - val_accuracy: 0.1357 - val_loss: 3.6295 - macro_f1: 0.4633\n",
      "Epoch 29/50\n",
      "\u001b[1m11/11\u001b[0m \u001b[32m━━━━━━━━━━━━━━━━━━━━\u001b[0m\u001b[37m\u001b[0m \u001b[1m3s\u001b[0m 243ms/step - accuracy:\n",
      "Epoch 29: Macro F1 Score: 0.3526\n",
      "\u001b[1m40/40\u001b[0m \u001b[32m━━━━━━━━━━━━━━━━━━━━\u001b[0m\u001b[37m\u001b[0m \u001b[1m30s\u001b[0m 746ms/step - accuracy: 0.6572 - loss: 0.8568 - val_accuracy: 0.1714 - val_loss: 4.1410 - macro_f1: 0.3526\n",
      "Epoch 30/50\n",
      "\u001b[1m11/11\u001b[0m \u001b[32m━━━━━━━━━━━━━━━━━━━━\u001b[0m\u001b[37m\u001b[0m \u001b[1m3s\u001b[0m 236ms/step - accuracy:\n",
      "Epoch 30: Macro F1 Score: 0.3630\n",
      "\u001b[1m40/40\u001b[0m \u001b[32m━━━━━━━━━━━━━━━━━━━━\u001b[0m\u001b[37m\u001b[0m \u001b[1m30s\u001b[0m 755ms/step - accuracy: 0.6302 - loss: 0.9714 - val_accuracy: 0.1643 - val_loss: 3.3047 - macro_f1: 0.3630\n",
      "Epoch 31/50\n",
      "\u001b[1m11/11\u001b[0m \u001b[32m━━━━━━━━━━━━━━━━━━━━\u001b[0m\u001b[37m\u001b[0m \u001b[1m3s\u001b[0m 237ms/step - accuracy:\n",
      "Epoch 31: Macro F1 Score: 0.3990\n",
      "\u001b[1m40/40\u001b[0m \u001b[32m━━━━━━━━━━━━━━━━━━━━\u001b[0m\u001b[37m\u001b[0m \u001b[1m30s\u001b[0m 756ms/step - accuracy: 0.6292 - loss: 1.0744 - val_accuracy: 0.0714 - val_loss: 3.8037 - macro_f1: 0.3990\n",
      "Epoch 32/50\n",
      "\u001b[1m11/11\u001b[0m \u001b[32m━━━━━━━━━━━━━━━━━━━━\u001b[0m\u001b[37m\u001b[0m \u001b[1m3s\u001b[0m 235ms/step - accuracy:\n",
      "Epoch 32: Macro F1 Score: 0.4463\n",
      "\u001b[1m40/40\u001b[0m \u001b[32m━━━━━━━━━━━━━━━━━━━━\u001b[0m\u001b[37m\u001b[0m \u001b[1m30s\u001b[0m 746ms/step - accuracy: 0.6575 - loss: 0.9123 - val_accuracy: 0.0929 - val_loss: 4.2776 - macro_f1: 0.4463\n",
      "Epoch 33/50\n",
      "\u001b[1m11/11\u001b[0m \u001b[32m━━━━━━━━━━━━━━━━━━━━\u001b[0m\u001b[37m\u001b[0m \u001b[1m3s\u001b[0m 235ms/step - accuracy:\n",
      "Epoch 33: Macro F1 Score: 0.3819\n",
      "\u001b[1m40/40\u001b[0m \u001b[32m━━━━━━━━━━━━━━━━━━━━\u001b[0m\u001b[37m\u001b[0m \u001b[1m30s\u001b[0m 753ms/step - accuracy: 0.7033 - loss: 0.8053 - val_accuracy: 0.0714 - val_loss: 4.2470 - macro_f1: 0.3819\n",
      "Epoch 34/50\n",
      "\u001b[1m11/11\u001b[0m \u001b[32m━━━━━━━━━━━━━━━━━━━━\u001b[0m\u001b[37m\u001b[0m \u001b[1m3s\u001b[0m 238ms/step - accuracy:\n",
      "Epoch 34: Macro F1 Score: 0.4188\n",
      "\u001b[1m40/40\u001b[0m \u001b[32m━━━━━━━━━━━━━━━━━━━━\u001b[0m\u001b[37m\u001b[0m \u001b[1m30s\u001b[0m 749ms/step - accuracy: 0.6757 - loss: 0.8667 - val_accuracy: 0.0929 - val_loss: 4.6078 - macro_f1: 0.4188\n",
      "Epoch 35/50\n",
      "\u001b[1m11/11\u001b[0m \u001b[32m━━━━━━━━━━━━━━━━━━━━\u001b[0m\u001b[37m\u001b[0m \u001b[1m3s\u001b[0m 241ms/step - accuracy:\n",
      "Epoch 35: Macro F1 Score: 0.4176\n",
      "\u001b[1m40/40\u001b[0m \u001b[32m━━━━━━━━━━━━━━━━━━━━\u001b[0m\u001b[37m\u001b[0m \u001b[1m30s\u001b[0m 751ms/step - accuracy: 0.7224 - loss: 0.7963 - val_accuracy: 0.0929 - val_loss: 4.0388 - macro_f1: 0.4176\n",
      "Epoch 36/50\n",
      "\u001b[1m11/11\u001b[0m \u001b[32m━━━━━━━━━━━━━━━━━━━━\u001b[0m\u001b[37m\u001b[0m \u001b[1m3s\u001b[0m 236ms/step - accuracy:\n",
      "Epoch 36: Macro F1 Score: 0.4490\n",
      "\u001b[1m40/40\u001b[0m \u001b[32m━━━━━━━━━━━━━━━━━━━━\u001b[0m\u001b[37m\u001b[0m \u001b[1m30s\u001b[0m 751ms/step - accuracy: 0.7157 - loss: 0.7277 - val_accuracy: 0.1143 - val_loss: 4.6160 - macro_f1: 0.4490\n",
      "Epoch 37/50\n",
      "\u001b[1m11/11\u001b[0m \u001b[32m━━━━━━━━━━━━━━━━━━━━\u001b[0m\u001b[37m\u001b[0m \u001b[1m3s\u001b[0m 236ms/step - accuracy:\n",
      "Epoch 37: Macro F1 Score: 0.4804\n",
      "\u001b[1m40/40\u001b[0m \u001b[32m━━━━━━━━━━━━━━━━━━━━\u001b[0m\u001b[37m\u001b[0m \u001b[1m30s\u001b[0m 743ms/step - accuracy: 0.7764 - loss: 0.5954 - val_accuracy: 0.1714 - val_loss: 4.4325 - macro_f1: 0.4804\n",
      "Epoch 38/50\n",
      "\u001b[1m11/11\u001b[0m \u001b[32m━━━━━━━━━━━━━━━━━━━━\u001b[0m\u001b[37m\u001b[0m \u001b[1m3s\u001b[0m 236ms/step - accuracy:\n",
      "Epoch 38: Macro F1 Score: 0.4460\n",
      "\u001b[1m40/40\u001b[0m \u001b[32m━━━━━━━━━━━━━━━━━━━━\u001b[0m\u001b[37m\u001b[0m \u001b[1m30s\u001b[0m 748ms/step - accuracy: 0.7758 - loss: 0.5867 - val_accuracy: 0.0857 - val_loss: 5.6174 - macro_f1: 0.4460\n",
      "Epoch 39/50\n",
      "\u001b[1m11/11\u001b[0m \u001b[32m━━━━━━━━━━━━━━━━━━━━\u001b[0m\u001b[37m\u001b[0m \u001b[1m3s\u001b[0m 239ms/step - accuracy:\n",
      "Epoch 39: Macro F1 Score: 0.4594\n",
      "\u001b[1m40/40\u001b[0m \u001b[32m━━━━━━━━━━━━━━━━━━━━\u001b[0m\u001b[37m\u001b[0m \u001b[1m30s\u001b[0m 751ms/step - accuracy: 0.7874 - loss: 0.6026 - val_accuracy: 0.1000 - val_loss: 4.7183 - macro_f1: 0.4594\n",
      "Epoch 40/50\n",
      "\u001b[1m11/11\u001b[0m \u001b[32m━━━━━━━━━━━━━━━━━━━━\u001b[0m\u001b[37m\u001b[0m \u001b[1m3s\u001b[0m 236ms/step - accuracy:\n",
      "Epoch 40: Macro F1 Score: 0.4433\n",
      "\u001b[1m40/40\u001b[0m \u001b[32m━━━━━━━━━━━━━━━━━━━━\u001b[0m\u001b[37m\u001b[0m \u001b[1m30s\u001b[0m 749ms/step - accuracy: 0.7820 - loss: 0.5784 - val_accuracy: 0.1357 - val_loss: 5.9427 - macro_f1: 0.4433\n",
      "Epoch 41/50\n",
      "\u001b[1m11/11\u001b[0m \u001b[32m━━━━━━━━━━━━━━━━━━━━\u001b[0m\u001b[37m\u001b[0m \u001b[1m3s\u001b[0m 238ms/step - accuracy:\n",
      "Epoch 41: Macro F1 Score: 0.4344\n",
      "\u001b[1m40/40\u001b[0m \u001b[32m━━━━━━━━━━━━━━━━━━━━\u001b[0m\u001b[37m\u001b[0m \u001b[1m30s\u001b[0m 746ms/step - accuracy: 0.7632 - loss: 0.5966 - val_accuracy: 0.1286 - val_loss: 4.9891 - macro_f1: 0.4344\n",
      "Epoch 42/50\n",
      "\u001b[1m11/11\u001b[0m \u001b[32m━━━━━━━━━━━━━━━━━━━━\u001b[0m\u001b[37m\u001b[0m \u001b[1m3s\u001b[0m 236ms/step - accuracy:\n",
      "Epoch 42: Macro F1 Score: 0.4359\n",
      "\u001b[1m40/40\u001b[0m \u001b[32m━━━━━━━━━━━━━━━━━━━━\u001b[0m\u001b[37m\u001b[0m \u001b[1m30s\u001b[0m 746ms/step - accuracy: 0.7974 - loss: 0.5780 - val_accuracy: 0.1500 - val_loss: 6.1324 - macro_f1: 0.4359\n",
      "Epoch 43/50\n",
      "\u001b[1m11/11\u001b[0m \u001b[32m━━━━━━━━━━━━━━━━━━━━\u001b[0m\u001b[37m\u001b[0m \u001b[1m3s\u001b[0m 242ms/step - accuracy:\n",
      "Epoch 43: Macro F1 Score: 0.4269\n",
      "\u001b[1m40/40\u001b[0m \u001b[32m━━━━━━━━━━━━━━━━━━━━\u001b[0m\u001b[37m\u001b[0m \u001b[1m30s\u001b[0m 750ms/step - accuracy: 0.7667 - loss: 0.6177 - val_accuracy: 0.1000 - val_loss: 6.1564 - macro_f1: 0.4269\n",
      "Epoch 44/50\n",
      "\u001b[1m11/11\u001b[0m \u001b[32m━━━━━━━━━━━━━━━━━━━━\u001b[0m\u001b[37m\u001b[0m \u001b[1m3s\u001b[0m 244ms/step - accuracy:\n",
      "Epoch 44: Macro F1 Score: 0.4035\n",
      "\u001b[1m40/40\u001b[0m \u001b[32m━━━━━━━━━━━━━━━━━━━━\u001b[0m\u001b[37m\u001b[0m \u001b[1m30s\u001b[0m 751ms/step - accuracy: 0.7852 - loss: 0.5780 - val_accuracy: 0.1929 - val_loss: 5.3451 - macro_f1: 0.4035\n",
      "Epoch 45/50\n",
      "\u001b[1m11/11\u001b[0m \u001b[32m━━━━━━━━━━━━━━━━━━━━\u001b[0m\u001b[37m\u001b[0m \u001b[1m3s\u001b[0m 237ms/step - accuracy:\n",
      "Epoch 45: Macro F1 Score: 0.4390\n",
      "\u001b[1m40/40\u001b[0m \u001b[32m━━━━━━━━━━━━━━━━━━━━\u001b[0m\u001b[37m\u001b[0m \u001b[1m30s\u001b[0m 751ms/step - accuracy: 0.8196 - loss: 0.5165 - val_accuracy: 0.1571 - val_loss: 6.6913 - macro_f1: 0.4390\n",
      "Epoch 46/50\n",
      "\u001b[1m11/11\u001b[0m \u001b[32m━━━━━━━━━━━━━━━━━━━━\u001b[0m\u001b[37m\u001b[0m \u001b[1m3s\u001b[0m 240ms/step - accuracy:\n",
      "Epoch 46: Macro F1 Score: 0.4205\n",
      "\u001b[1m40/40\u001b[0m \u001b[32m━━━━━━━━━━━━━━━━━━━━\u001b[0m\u001b[37m\u001b[0m \u001b[1m30s\u001b[0m 745ms/step - accuracy: 0.7812 - loss: 0.6260 - val_accuracy: 0.0429 - val_loss: 5.3345 - macro_f1: 0.4205\n",
      "Epoch 47/50\n",
      "\u001b[1m11/11\u001b[0m \u001b[32m━━━━━━━━━━━━━━━━━━━━\u001b[0m\u001b[37m\u001b[0m \u001b[1m3s\u001b[0m 242ms/step - accuracy:\n",
      "Epoch 47: Macro F1 Score: 0.4450\n",
      "\u001b[1m40/40\u001b[0m \u001b[32m━━━━━━━━━━━━━━━━━━━━\u001b[0m\u001b[37m\u001b[0m \u001b[1m30s\u001b[0m 742ms/step - accuracy: 0.8239 - loss: 0.5040 - val_accuracy: 0.0714 - val_loss: 6.7389 - macro_f1: 0.4450\n",
      "Epoch 48/50\n",
      "\u001b[1m11/11\u001b[0m \u001b[32m━━━━━━━━━━━━━━━━━━━━\u001b[0m\u001b[37m\u001b[0m \u001b[1m3s\u001b[0m 243ms/step - accuracy:\n",
      "Epoch 48: Macro F1 Score: 0.4229\n",
      "\u001b[1m40/40\u001b[0m \u001b[32m━━━━━━━━━━━━━━━━━━━━\u001b[0m\u001b[37m\u001b[0m \u001b[1m30s\u001b[0m 751ms/step - accuracy: 0.8438 - loss: 0.3984 - val_accuracy: 0.0714 - val_loss: 6.7273 - macro_f1: 0.4229\n",
      "Epoch 49/50\n",
      "\u001b[1m11/11\u001b[0m \u001b[32m━━━━━━━━━━━━━━━━━━━━\u001b[0m\u001b[37m\u001b[0m \u001b[1m3s\u001b[0m 236ms/step - accuracy:\n",
      "Epoch 49: Macro F1 Score: 0.4553\n",
      "\u001b[1m40/40\u001b[0m \u001b[32m━━━━━━━━━━━━━━━━━━━━\u001b[0m\u001b[37m\u001b[0m \u001b[1m30s\u001b[0m 748ms/step - accuracy: 0.8526 - loss: 0.4285 - val_accuracy: 0.0929 - val_loss: 6.8879 - macro_f1: 0.4553\n",
      "Epoch 50/50\n",
      "\u001b[1m11/11\u001b[0m \u001b[32m━━━━━━━━━━━━━━━━━━━━\u001b[0m\u001b[37m\u001b[0m \u001b[1m3s\u001b[0m 235ms/step - accuracy:\n",
      "Epoch 50: Macro F1 Score: 0.4115\n",
      "\u001b[1m40/40\u001b[0m \u001b[32m━━━━━━━━━━━━━━━━━━━━\u001b[0m\u001b[37m\u001b[0m \u001b[1m30s\u001b[0m 745ms/step - accuracy: 0.8372 - loss: 0.4658 - val_accuracy: 0.1714 - val_loss: 5.5411 - macro_f1: 0.4115\n",
      "\u001b[1m11/11\u001b[0m \u001b[32m━━━━━━━━━━━━━━━━━━━━\u001b[0m\u001b[37m\u001b[0m \u001b[1m3s\u001b[0m 236ms/step\n",
      "Accuracy: 42.00%\n",
      "Classification Report:\n",
      "              precision    recall  f1-score   support\n",
      "\n",
      "           0       0.35      0.32      0.33        50\n",
      "           1       0.51      0.62      0.56        50\n",
      "           2       0.44      0.52      0.48        50\n",
      "           3       0.40      0.42      0.41        50\n",
      "           4       0.54      0.60      0.57        50\n",
      "           5       0.19      0.16      0.17        50\n",
      "           6       0.45      0.30      0.36        50\n",
      "\n",
      "    accuracy                           0.42       350\n",
      "   macro avg       0.41      0.42      0.41       350\n",
      "weighted avg       0.41      0.42      0.41       350\n",
      "\n"
     ]
    }
   ],
   "source": [
    "from data_loader import DataLoader\n",
    "from cnn import CustomCNN\n",
    "\n",
    "dataset_name = \"multiclass\"\n",
    "dataloader = DataLoader( dataset_name=dataset_name, extract_features=False)\n",
    "\n",
    "\n",
    "cnn = CustomCNN(img_height=250, img_width=600, num_classes=7, num_conv_layers=6)\n",
    "X_train, y_train = cnn.preprocess_data(dataloader.X_train, dataloader.y_train)\n",
    "X_test, y_test = cnn.preprocess_data(dataloader.X_test, dataloader.y_test)\n",
    "\n",
    "cnn.fit(X_train, y_train, X_test, y_test, epochs=50, model_save_path='./best_model_multiclass.keras')\n",
    "y_pred = cnn.predict(X_test)\n",
    "cnn.evaluate(y_test, y_pred)"
   ]
  }
 ],
 "metadata": {
  "kernelspec": {
   "display_name": "base",
   "language": "python",
   "name": "python3"
  },
  "language_info": {
   "codemirror_mode": {
    "name": "ipython",
    "version": 3
   },
   "file_extension": ".py",
   "mimetype": "text/x-python",
   "name": "python",
   "nbconvert_exporter": "python",
   "pygments_lexer": "ipython3",
   "version": "3.12.2"
  }
 },
 "nbformat": 4,
 "nbformat_minor": 2
}
